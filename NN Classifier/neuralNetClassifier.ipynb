{
 "cells": [
  {
   "cell_type": "code",
   "execution_count": 1,
   "metadata": {},
   "outputs": [],
   "source": [
    "import pandas as pd\n",
    "import numpy as np\n",
    "\n",
    "# Modelling\n",
    "import sklearn.neural_network as nn\n",
    "from sklearn.metrics import accuracy_score, confusion_matrix, precision_score, recall_score, f1_score, ConfusionMatrixDisplay\n",
    "from sklearn.model_selection import RandomizedSearchCV, train_test_split\n",
    "from scipy.stats import randint\n",
    "from sklearn.decomposition import PCA\n",
    "from sklearn.preprocessing import StandardScaler\n",
    "\n",
    "from matplotlib import pyplot as plt\n",
    "from mpl_toolkits.mplot3d import Axes3D\n",
    "import seaborn as sns\n",
    "\n",
    "%matplotlib widget\n",
    "\n",
    "# Tree Visualisation\n",
    "from sklearn.tree import export_graphviz\n",
    "from IPython.display import Image\n",
    "import graphviz\n",
    "\n",
    "import os\n",
    "import csv\n",
    "\n",
    "os.environ[\"PATH\"] += os.pathsep + 'C:\\\\Program Files (x86)\\\\Graphviz\\\\bin\\\\'\n",
    "\n",
    "directory = os.getcwd()"
   ]
  },
  {
   "cell_type": "code",
   "execution_count": 4,
   "metadata": {},
   "outputs": [
    {
     "name": "stdout",
     "output_type": "stream",
     "text": [
      "Data: 1\n",
      "Accuracy: 0.7267366230162171\n",
      "Precision: 0.7227872754814975\n",
      "Recall: 0.6410748560460653\n",
      "F1-Score: 0.6794832672159495\n",
      "Data: 2\n",
      "Accuracy: 0.7289046917006331\n",
      "Precision: 0.7067326732673267\n",
      "Recall: 0.6845032604526275\n",
      "F1-Score: 0.6954403741231489\n",
      "Data: 3\n",
      "Accuracy: 0.7296851964270228\n",
      "Precision: 0.7853672477850815\n",
      "Recall: 0.5373484552209621\n",
      "F1-Score: 0.6381051898293277\n",
      "Data: 4\n"
     ]
    },
    {
     "name": "stderr",
     "output_type": "stream",
     "text": [
      "c:\\Users\\benal\\AppData\\Local\\Programs\\Python\\Python39\\lib\\site-packages\\sklearn\\neural_network\\_multilayer_perceptron.py:698: UserWarning: Training interrupted by user.\n",
      "  warnings.warn(\"Training interrupted by user.\")\n"
     ]
    },
    {
     "name": "stdout",
     "output_type": "stream",
     "text": [
      "Accuracy: 0.7260428410372041\n",
      "Precision: 0.6915745329775067\n",
      "Recall: 0.701876571870768\n",
      "F1-Score: 0.6966874699951993\n",
      "Data: 5\n"
     ]
    }
   ],
   "source": [
    "accuracy = [0.0 for x in range(1,(5+1))]\n",
    "precision = [0.0 for x in range(1,(5+1))]\n",
    "recall = [0.0 for x in range(1,(5+1))]\n",
    "f1score = [0.0 for x in range(1,(5+1))]\n",
    "\n",
    "for i in range(1,(5+1)):\n",
    "    print('Data: ' + str(i))\n",
    "    with open(directory+'\\\\..\\\\Data Cleaning\\\\train-'+str(i)+'.csv', 'r') as csvfile:\n",
    "        dataset = list(csv.reader(csvfile))\n",
    "\n",
    "    datasetLength = len(dataset)\n",
    "    dataLabels = dataset[0]\n",
    "    dataset = dataset[1:datasetLength]\n",
    "    npDataset = np.array(dataset, dtype='float64')\n",
    "\n",
    "    X_train = npDataset[:,0:(len(dataLabels)-1)]\n",
    "    Y_train = npDataset[:,len(dataLabels)-1]\n",
    "\n",
    "    with open(directory+'\\\\..\\\\Data Cleaning\\\\test-'+str(i)+'.csv', 'r') as csvfile:\n",
    "        dataset = list(csv.reader(csvfile))\n",
    "\n",
    "    datasetLength = len(dataset)\n",
    "    dataLabels = dataset[0]\n",
    "    dataset = dataset[1:datasetLength]\n",
    "    npDataset = np.array(dataset, dtype='float64')\n",
    "\n",
    "    X_test = npDataset[:,0:(len(dataLabels)-1)]\n",
    "    Y_test = npDataset[:,len(dataLabels)-1]\n",
    "\n",
    "\n",
    "    ### model\n",
    "\n",
    "    nnModel = nn.MLPClassifier(hidden_layer_sizes=(50,50,50,50,50,50),activation='relu',learning_rate='adaptive')\n",
    "    nnModel.fit(X_train, Y_train)\n",
    "\n",
    "    Y_pred = nnModel.predict(X_test)\n",
    "    accuracy[i-1] = accuracy_score(Y_test, Y_pred)\n",
    "    precision[i-1] = precision_score(Y_test, Y_pred, pos_label=float(1))\n",
    "    recall[i-1] = recall_score(Y_test, Y_pred, pos_label=float(1))\n",
    "    f1score[i-1] = f1_score(Y_test, Y_pred, pos_label=float(1))\n",
    "    print(\"Accuracy:\", accuracy[i-1])\n",
    "    print(\"Precision:\", precision[i-1])\n",
    "    print(\"Recall:\", recall[i-1])\n",
    "    print(\"F1-Score:\", f1score[i-1])\n",
    "\n",
    "    # Create the confusion matrix\n",
    "    cm = confusion_matrix(Y_test, Y_pred)\n",
    "    ConfusionMatrixDisplay(confusion_matrix=cm).plot()\n",
    "\n",
    "print(\"\\nAverage:\\n\")\n",
    "print(\"Accuracy:\", np.mean(accuracy))\n",
    "print(\"Precision:\", np.mean(precision))\n",
    "print(\"Recall:\", np.mean(recall))\n",
    "print(\"F1-Score:\", np.mean(f1score))"
   ]
  }
 ],
 "metadata": {
  "kernelspec": {
   "display_name": "Python 3",
   "language": "python",
   "name": "python3"
  },
  "language_info": {
   "codemirror_mode": {
    "name": "ipython",
    "version": 3
   },
   "file_extension": ".py",
   "mimetype": "text/x-python",
   "name": "python",
   "nbconvert_exporter": "python",
   "pygments_lexer": "ipython3",
   "version": "3.9.5"
  }
 },
 "nbformat": 4,
 "nbformat_minor": 2
}
